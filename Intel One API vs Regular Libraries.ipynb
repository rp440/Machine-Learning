{
 "cells": [
  {
   "cell_type": "code",
   "execution_count": 45,
   "id": "fa2d523c",
   "metadata": {},
   "outputs": [
    {
     "name": "stdout",
     "output_type": "stream",
     "text": [
      "psutil.Process(pid=18528, name='python.exe', status='running', started='15:52:00')\n",
      "The CPU 1 usage is :  3.4\n",
      "The CPU 2 usage is :  0.0 0.0009865760803222656\n",
      "memory use: 0.9740371704101562\n"
     ]
    }
   ],
   "source": [
    "import numpy as np\n",
    "from numpy import random, random_intel\n",
    "import psutil\n",
    "import os\n",
    "from time import time\n",
    "import timeit\n",
    "import os\n",
    "\n",
    "pid = os.getpid()\n",
    "python_process = psutil.Process(pid)\n",
    "\n",
    "cpu2 = psutil.cpu_percent(interval=None)\n",
    "\n",
    "\n",
    "start_time2_a = time()\n",
    "np.random_intel.rand(10**5)\n",
    "start_time2_b = time()\n",
    "\n",
    "cpu3 = psutil.cpu_percent(interval=None)\n",
    "\n",
    "memoryUse = python_process.memory_info()[0]/2.**30\n",
    "\n",
    "print(python_process)\n",
    "print(\"The CPU 1 usage is : \", cpu2)\n",
    "print(\"The CPU 2 usage is : \", cpu3, float(start_time2_b - start_time2_a))\n",
    "print('memory use:', memoryUse)"
   ]
  },
  {
   "cell_type": "code",
   "execution_count": 44,
   "id": "b87d75af",
   "metadata": {},
   "outputs": [
    {
     "name": "stdout",
     "output_type": "stream",
     "text": [
      "psutil.Process(pid=18528, name='python.exe', status='running', started='15:52:00')\n",
      "The CPU 1 usage is :  3.8\n",
      "The CPU 2 usage is :  0.0 0.001004934310913086\n",
      "memory use: 0.9740066528320312\n"
     ]
    }
   ],
   "source": [
    "import numpy as np\n",
    "from numpy import random, random_intel\n",
    "import psutil\n",
    "import os\n",
    "from time import time\n",
    "import timeit\n",
    "import os\n",
    "\n",
    "pid = os.getpid()\n",
    "python_process = psutil.Process(pid)\n",
    "\n",
    "cpu2 = psutil.cpu_percent(interval=None)\n",
    "\n",
    "\n",
    "start_time2_a = time()\n",
    "np.random.rand(10**5)\n",
    "start_time2_b = time()\n",
    "\n",
    "cpu3 = psutil.cpu_percent(interval=None)\n",
    "\n",
    "memoryUse = python_process.memory_info()[0]/2.**30\n",
    "\n",
    "print(python_process)\n",
    "print(\"The CPU 1 usage is : \", cpu2)\n",
    "print(\"The CPU 2 usage is : \", cpu3, float(start_time2_b - start_time2_a))\n",
    "print('memory use:', memoryUse)"
   ]
  },
  {
   "cell_type": "code",
   "execution_count": 11,
   "id": "4cd235b3",
   "metadata": {},
   "outputs": [
    {
     "name": "stdout",
     "output_type": "stream",
     "text": [
      "CPU times: total: 0 ns\n",
      "Wall time: 1.02 ms\n"
     ]
    },
    {
     "data": {
      "text/plain": [
       "array([0.45626518, 0.40707762, 0.20963306, ..., 0.75964116, 0.75792924,\n",
       "       0.02108528])"
      ]
     },
     "execution_count": 11,
     "metadata": {},
     "output_type": "execute_result"
    }
   ],
   "source": [
    "%time np.random.rand(10**5)"
   ]
  },
  {
   "cell_type": "code",
   "execution_count": 17,
   "id": "1f6f390f",
   "metadata": {},
   "outputs": [
    {
     "name": "stdout",
     "output_type": "stream",
     "text": [
      "CPU times: total: 0 ns\n",
      "Wall time: 1.35 ms\n"
     ]
    },
    {
     "data": {
      "text/plain": [
       "array([0.61988591, 0.41267504, 0.2367602 , ..., 0.44837288, 0.55064377,\n",
       "       0.74932797])"
      ]
     },
     "execution_count": 17,
     "metadata": {},
     "output_type": "execute_result"
    }
   ],
   "source": [
    "%time np.random_intel.rand(10**5)"
   ]
  },
  {
   "cell_type": "code",
   "execution_count": 19,
   "id": "d9321472",
   "metadata": {},
   "outputs": [
    {
     "name": "stdout",
     "output_type": "stream",
     "text": [
      "480 µs ± 4.66 µs per loop (mean ± std. dev. of 7 runs, 1,000 loops each)\n"
     ]
    }
   ],
   "source": [
    "%timeit np.random.rand(10**5)"
   ]
  },
  {
   "cell_type": "code",
   "execution_count": 18,
   "id": "3053a1fb",
   "metadata": {},
   "outputs": [
    {
     "name": "stdout",
     "output_type": "stream",
     "text": [
      "65.6 µs ± 1.61 µs per loop (mean ± std. dev. of 7 runs, 10,000 loops each)\n"
     ]
    }
   ],
   "source": [
    "%timeit np.random_intel.rand(10**5)"
   ]
  },
  {
   "cell_type": "code",
   "execution_count": 15,
   "id": "1cf2db10",
   "metadata": {},
   "outputs": [
    {
     "name": "stdout",
     "output_type": "stream",
     "text": [
      "The CPU 1 usage is :  2.8\n",
      "The CPU 2 usage is :  0.0\n"
     ]
    }
   ],
   "source": [
    "cpu2 = psutil.cpu_percent(interval=None)\n",
    "np.random.rand(10**5)\n",
    "cpu3 = psutil.cpu_percent(interval=None)\n",
    "print(\"The CPU 1 usage is : \", cpu2)\n",
    "print(\"The CPU 2 usage is : \", cpu3)"
   ]
  },
  {
   "cell_type": "code",
   "execution_count": 16,
   "id": "712a1dd8",
   "metadata": {},
   "outputs": [
    {
     "name": "stdout",
     "output_type": "stream",
     "text": [
      "The CPU 1 usage is :  2.0\n",
      "The CPU 2 usage is :  0.0\n"
     ]
    }
   ],
   "source": [
    "cpu2 = psutil.cpu_percent(interval=None)\n",
    "np.random_intel.rand(10**5)\n",
    "cpu3 = psutil.cpu_percent(interval=None)\n",
    "print(\"The CPU 1 usage is : \", cpu2)\n",
    "print(\"The CPU 2 usage is : \", cpu3)"
   ]
  },
  {
   "cell_type": "code",
   "execution_count": 20,
   "id": "a851f323",
   "metadata": {},
   "outputs": [],
   "source": [
    "import pandas as pd\n",
    "import sklearn\n",
    "from sklearn.model_selection import train_test_split\n",
    "from time import time\n",
    "from sklearn.metrics import mean_squared_error\n",
    "from math import sqrt\n",
    "import numpy as np\n",
    "\n",
    "df = pd.read_csv(\"df_allData.csv\")\n",
    "\n",
    "keep_columns = ['Close', 'RSI', '50_SMA','20_SMA']\n",
    "df = df.dropna()\n",
    "X = df[keep_columns].values\n",
    "Y = df['Target'].values"
   ]
  },
  {
   "cell_type": "code",
   "execution_count": 23,
   "id": "9ca8dbe9",
   "metadata": {},
   "outputs": [
    {
     "name": "stdout",
     "output_type": "stream",
     "text": [
      "memory use: 0.31095123291015625\n",
      "cpu P1 use: 3.7\n",
      "cpu P2 use: 13.5\n"
     ]
    }
   ],
   "source": [
    "pid = os.getpid()\n",
    "python_process = psutil.Process(pid)\n",
    "\n",
    "cpu1 = psutil.cpu_percent(interval=None)\n",
    "X_train, X_test, y_train, y_test = train_test_split(X, Y, test_size=0.5, random_state=1)\n",
    "cpu2 = psutil.cpu_percent(interval = None)\n",
    "\n",
    "memoryUse = python_process.memory_info()[0]/2.**30\n",
    "\n",
    "print('memory use:', memoryUse)\n",
    "print('cpu P1 use:', cpu1)\n",
    "print('cpu P2 use:', cpu2)"
   ]
  },
  {
   "cell_type": "code",
   "execution_count": 27,
   "id": "35c96efb",
   "metadata": {},
   "outputs": [
    {
     "name": "stdout",
     "output_type": "stream",
     "text": [
      "memory use: 0.3267097473144531\n",
      "cpu P1 use: 5.0\n",
      "cpu P2 use: 17.2\n"
     ]
    },
    {
     "name": "stderr",
     "output_type": "stream",
     "text": [
      "Intel(R) Extension for Scikit-learn* enabled (https://github.com/intel/scikit-learn-intelex)\n"
     ]
    }
   ],
   "source": [
    "from sklearnex import patch_sklearn\n",
    "patch_sklearn()\n",
    "\n",
    "pid = os.getpid()\n",
    "python_process = psutil.Process(pid)\n",
    "\n",
    "cpu1 = psutil.cpu_percent(interval=None)\n",
    "X_train, X_test, y_train, y_test = train_test_split(X, Y, test_size=0.5, random_state=1)\n",
    "cpu2 = psutil.cpu_percent(interval = None)\n",
    "\n",
    "memoryUse = python_process.memory_info()[0]/2.**30\n",
    "\n",
    "print('memory use:', memoryUse)\n",
    "print('cpu P1 use:', cpu1)\n",
    "print('cpu P2 use:', cpu2)"
   ]
  },
  {
   "cell_type": "code",
   "execution_count": 24,
   "id": "18b85234",
   "metadata": {},
   "outputs": [
    {
     "name": "stdout",
     "output_type": "stream",
     "text": [
      "The time usage is :  0.10503554344177246\n"
     ]
    }
   ],
   "source": [
    "start_time2_a = time()\n",
    "X_train, X_test, y_train, y_test = train_test_split(X, Y, test_size=0.5, random_state=1)\n",
    "start_time2_b = time()\n",
    "print(\"The time usage is : \", float(start_time2_b - start_time2_a))"
   ]
  },
  {
   "cell_type": "code",
   "execution_count": 28,
   "id": "57413a7f",
   "metadata": {},
   "outputs": [
    {
     "name": "stderr",
     "output_type": "stream",
     "text": [
      "Intel(R) Extension for Scikit-learn* enabled (https://github.com/intel/scikit-learn-intelex)\n"
     ]
    },
    {
     "name": "stdout",
     "output_type": "stream",
     "text": [
      "The time usage is :  0.28855443000793457\n"
     ]
    }
   ],
   "source": [
    "from sklearnex import patch_sklearn\n",
    "patch_sklearn()\n",
    "from sklearn.model_selection import train_test_split\n",
    "\n",
    "start_time2_a = time()\n",
    "X_train, X_test, y_train, y_test = train_test_split(X, Y, test_size=0.5, random_state=1)\n",
    "start_time2_b = time()\n",
    "print(\"The time usage is : \", float(start_time2_b - start_time2_a))"
   ]
  },
  {
   "cell_type": "code",
   "execution_count": 22,
   "id": "bf4464ab",
   "metadata": {},
   "outputs": [
    {
     "name": "stdout",
     "output_type": "stream",
     "text": [
      "97.1 ms ± 1.29 ms per loop (mean ± std. dev. of 7 runs, 10 loops each)\n"
     ]
    }
   ],
   "source": [
    "%timeit X_train, X_test, y_train, y_test = train_test_split(X, Y, test_size=0.5, random_state=1)"
   ]
  },
  {
   "cell_type": "code",
   "execution_count": 29,
   "id": "0bed2bf0",
   "metadata": {},
   "outputs": [
    {
     "name": "stderr",
     "output_type": "stream",
     "text": [
      "Intel(R) Extension for Scikit-learn* enabled (https://github.com/intel/scikit-learn-intelex)\n"
     ]
    },
    {
     "name": "stdout",
     "output_type": "stream",
     "text": [
      "67.8 ms ± 2.64 ms per loop (mean ± std. dev. of 7 runs, 10 loops each)\n"
     ]
    }
   ],
   "source": [
    "from sklearnex import patch_sklearn\n",
    "patch_sklearn()\n",
    "from sklearn.model_selection import train_test_split\n",
    "\n",
    "%timeit X_train, X_test, y_train, y_test = train_test_split(X, Y, test_size=0.5, random_state=1)"
   ]
  },
  {
   "cell_type": "code",
   "execution_count": 31,
   "id": "896f510a",
   "metadata": {},
   "outputs": [
    {
     "name": "stdout",
     "output_type": "stream",
     "text": [
      "CPU times: total: 78.1 ms\n",
      "Wall time: 79 ms\n"
     ]
    }
   ],
   "source": [
    "%time X_train, X_test, y_train, y_test = train_test_split(X, Y, test_size=0.5, random_state=1)"
   ]
  },
  {
   "cell_type": "code",
   "execution_count": 30,
   "id": "d19220f2",
   "metadata": {},
   "outputs": [
    {
     "name": "stdout",
     "output_type": "stream",
     "text": [
      "CPU times: total: 78.1 ms\n",
      "Wall time: 76 ms\n"
     ]
    },
    {
     "name": "stderr",
     "output_type": "stream",
     "text": [
      "Intel(R) Extension for Scikit-learn* enabled (https://github.com/intel/scikit-learn-intelex)\n"
     ]
    }
   ],
   "source": [
    "from sklearnex import patch_sklearn\n",
    "patch_sklearn()\n",
    "from sklearn.model_selection import train_test_split\n",
    "\n",
    "%time X_train, X_test, y_train, y_test = train_test_split(X, Y, test_size=0.5, random_state=1)"
   ]
  },
  {
   "cell_type": "code",
   "execution_count": 34,
   "id": "acc03cdc",
   "metadata": {},
   "outputs": [],
   "source": [
    "from sklearn.ensemble import RandomForestRegressor\n",
    "from sklearn.datasets import make_regression\n",
    "from sklearn.model_selection import train_test_split\n",
    "from sklearn import ensemble\n",
    "from time import time\n",
    "from sklearn.model_selection import train_test_split\n",
    "import psutil"
   ]
  },
  {
   "cell_type": "code",
   "execution_count": 35,
   "id": "8bc4a224",
   "metadata": {},
   "outputs": [
    {
     "name": "stdout",
     "output_type": "stream",
     "text": [
      "0.9740320335690127\n",
      "Time: 16.036616802215576\n"
     ]
    }
   ],
   "source": [
    "start_time = time() \n",
    "regr = ensemble.RandomForestRegressor(n_estimators=1000).fit(X_train, y_train)\n",
    "total_time = float(time() - start_time)\n",
    "\n",
    "print(regr.score(X_test, y_test))\n",
    "\n",
    "print(\"Time:\" ,total_time)"
   ]
  },
  {
   "cell_type": "code",
   "execution_count": 36,
   "id": "24664feb",
   "metadata": {},
   "outputs": [
    {
     "name": "stderr",
     "output_type": "stream",
     "text": [
      "Intel(R) Extension for Scikit-learn* enabled (https://github.com/intel/scikit-learn-intelex)\n"
     ]
    },
    {
     "name": "stdout",
     "output_type": "stream",
     "text": [
      "0.9740134650516118\n",
      "Time: 16.182441473007202\n"
     ]
    }
   ],
   "source": [
    "from sklearn.ensemble import RandomForestRegressor\n",
    "from sklearn.datasets import make_regression\n",
    "from sklearnex import patch_sklearn\n",
    "patch_sklearn()\n",
    "\n",
    "start_time = time() \n",
    "regr = ensemble.RandomForestRegressor(n_estimators=1000).fit(X_train, y_train)\n",
    "total_time = float(time() - start_time)\n",
    "\n",
    "print(regr.score(X_test, y_test))\n",
    "\n",
    "print(\"Time:\" ,total_time)"
   ]
  },
  {
   "cell_type": "code",
   "execution_count": 37,
   "id": "fc44be7a",
   "metadata": {},
   "outputs": [
    {
     "name": "stdout",
     "output_type": "stream",
     "text": [
      "CPU times: total: 1min 34s\n",
      "Wall time: 16.2 s\n"
     ]
    }
   ],
   "source": [
    "%time regr = ensemble.RandomForestRegressor(n_estimators=1000).fit(X_train, y_train)"
   ]
  },
  {
   "cell_type": "code",
   "execution_count": 38,
   "id": "55181cd5",
   "metadata": {},
   "outputs": [
    {
     "name": "stderr",
     "output_type": "stream",
     "text": [
      "Intel(R) Extension for Scikit-learn* enabled (https://github.com/intel/scikit-learn-intelex)\n"
     ]
    },
    {
     "name": "stdout",
     "output_type": "stream",
     "text": [
      "CPU times: total: 1min 33s\n",
      "Wall time: 16.1 s\n"
     ]
    }
   ],
   "source": [
    "from sklearn.ensemble import RandomForestRegressor\n",
    "from sklearn.datasets import make_regression\n",
    "from sklearnex import patch_sklearn\n",
    "patch_sklearn()\n",
    "\n",
    "%time regr = ensemble.RandomForestRegressor(n_estimators=1000).fit(X_train, y_train)"
   ]
  },
  {
   "cell_type": "code",
   "execution_count": 39,
   "id": "1bb89b99",
   "metadata": {},
   "outputs": [
    {
     "name": "stdout",
     "output_type": "stream",
     "text": [
      "17.2 s ± 271 ms per loop (mean ± std. dev. of 7 runs, 1 loop each)\n"
     ]
    }
   ],
   "source": [
    "%timeit regr = ensemble.RandomForestRegressor(n_estimators=1000).fit(X_train, y_train)"
   ]
  },
  {
   "cell_type": "code",
   "execution_count": 40,
   "id": "887d04d3",
   "metadata": {},
   "outputs": [
    {
     "name": "stderr",
     "output_type": "stream",
     "text": [
      "Intel(R) Extension for Scikit-learn* enabled (https://github.com/intel/scikit-learn-intelex)\n"
     ]
    },
    {
     "name": "stdout",
     "output_type": "stream",
     "text": [
      "17.9 s ± 1.31 s per loop (mean ± std. dev. of 7 runs, 1 loop each)\n"
     ]
    }
   ],
   "source": [
    "from sklearn.ensemble import RandomForestRegressor\n",
    "from sklearn.datasets import make_regression\n",
    "from sklearnex import patch_sklearn\n",
    "patch_sklearn()\n",
    "\n",
    "%timeit regr = ensemble.RandomForestRegressor(n_estimators=1000).fit(X_train, y_train)"
   ]
  },
  {
   "cell_type": "code",
   "execution_count": 41,
   "id": "50e5bdf4",
   "metadata": {},
   "outputs": [
    {
     "name": "stdout",
     "output_type": "stream",
     "text": [
      "memory use: 0.9941520690917969\n",
      "cpu P1 use: 29.1\n",
      "cpu P2 use: 53.2\n"
     ]
    }
   ],
   "source": [
    "pid = os.getpid()\n",
    "python_process = psutil.Process(pid)\n",
    "\n",
    "cpu1 = psutil.cpu_percent(interval=None)\n",
    "regr = ensemble.RandomForestRegressor(n_estimators=1000).fit(X_train, y_train)\n",
    "cpu2 = psutil.cpu_percent(interval = None)\n",
    "\n",
    "memoryUse = python_process.memory_info()[0]/2.**30\n",
    "\n",
    "print('memory use:', memoryUse)\n",
    "print('cpu P1 use:', cpu1)\n",
    "print('cpu P2 use:', cpu2)"
   ]
  },
  {
   "cell_type": "code",
   "execution_count": 42,
   "id": "3331f659",
   "metadata": {},
   "outputs": [
    {
     "name": "stderr",
     "output_type": "stream",
     "text": [
      "Intel(R) Extension for Scikit-learn* enabled (https://github.com/intel/scikit-learn-intelex)\n"
     ]
    },
    {
     "name": "stdout",
     "output_type": "stream",
     "text": [
      "memory use: 0.9739456176757812\n",
      "cpu P1 use: 22.7\n",
      "cpu P2 use: 55.1\n"
     ]
    }
   ],
   "source": [
    "from sklearnex import patch_sklearn\n",
    "patch_sklearn()\n",
    "\n",
    "pid = os.getpid()\n",
    "python_process = psutil.Process(pid)\n",
    "\n",
    "cpu1 = psutil.cpu_percent(interval=None)\n",
    "regr = ensemble.RandomForestRegressor(n_estimators=1000).fit(X_train, y_train)\n",
    "cpu2 = psutil.cpu_percent(interval = None)\n",
    "\n",
    "memoryUse = python_process.memory_info()[0]/2.**30\n",
    "\n",
    "print('memory use:', memoryUse)\n",
    "print('cpu P1 use:', cpu1)\n",
    "print('cpu P2 use:', cpu2)"
   ]
  },
  {
   "cell_type": "code",
   "execution_count": 3,
   "id": "ee58df74",
   "metadata": {},
   "outputs": [
    {
     "name": "stdout",
     "output_type": "stream",
     "text": [
      "0.974030008311638\n",
      "Time: 30.916324377059937\n",
      "42.5\n",
      "sdiskusage(total=267631796224, used=263193645056, free=4438151168, percent=98.3)\n"
     ]
    }
   ],
   "source": [
    "# from sklearnex import patch_sklearn\n",
    "# patch_sklearn()\n",
    "\n",
    "from sklearn.ensemble import RandomForestRegressor\n",
    "from sklearn.datasets import make_regression\n",
    "from sklearn.model_selection import train_test_split\n",
    "from sklearn import ensemble\n",
    "from time import time\n",
    "from sklearn.model_selection import train_test_split\n",
    "import psutil\n",
    "\n",
    "\n",
    "\n",
    "start_time = time() \n",
    "\n",
    "# X, Y = make_regression(n_samples=200, random_state=1)\n",
    "# X_train, X_test, y_train, y_test = train_test_split(X, Y,random_state=1)\n",
    "regr = ensemble.RandomForestRegressor(n_estimators=1000).fit(X_train, y_train)\n",
    "total_time = float(time() - start_time)\n",
    "\n",
    "print(regr.score(X_test, y_test))\n",
    "\n",
    "\n",
    "\n",
    "print(\"Time:\" ,total_time)\n",
    "print(psutil.cpu_percent()) # for cpu usage\n",
    "print(psutil.disk_usage('/')) # for disk usage"
   ]
  },
  {
   "cell_type": "code",
   "execution_count": 4,
   "id": "76ebbe68",
   "metadata": {},
   "outputs": [
    {
     "name": "stdout",
     "output_type": "stream",
     "text": [
      "Fitting 5 folds for each of 36 candidates, totalling 180 fits\n"
     ]
    },
    {
     "name": "stderr",
     "output_type": "stream",
     "text": [
      "C:\\Users\\HP WORLD ANAND\\anaconda3\\envs\\intelai\\lib\\site-packages\\sklearn\\model_selection\\_search.py:922: UserWarning: One or more of the test scores are non-finite: [       nan        nan        nan 0.23979829 0.20223978 0.19850374\n",
      " 0.21868517 0.2213637  0.2017929         nan        nan        nan\n",
      " 0.1018928  0.0765755  0.09656682 0.07836572 0.08914987 0.07186988\n",
      "        nan        nan        nan 0.1710651  0.16556068 0.17723793\n",
      " 0.18472024 0.14815331 0.14990798        nan        nan        nan\n",
      " 0.21073838 0.16479516 0.20940947 0.20460927 0.19462871 0.20352508]\n",
      "  warnings.warn(\n"
     ]
    },
    {
     "name": "stdout",
     "output_type": "stream",
     "text": [
      "RandomForestRegressor(n_estimators=500)\n",
      "Time: 10.658783674240112\n",
      "40.1\n",
      "sdiskusage(total=267631796224, used=263031209984, free=4600586240, percent=98.3)\n"
     ]
    }
   ],
   "source": [
    "import numpy as np\n",
    "from sklearn import ensemble\n",
    "\n",
    "from time import time\n",
    "import psutil\n",
    "from sklearn.model_selection import train_test_split\n",
    "from sklearn.model_selection import GridSearchCV\n",
    "\n",
    "X_train, X_test, y_train, y_test = train_test_split(X, Y, test_size=0.5, random_state=1)\n",
    "\n",
    "# Set the parameters by cross-validation\n",
    "tuned_parameters = {'n_estimators': [500, 700, 1000], 'max_depth': [None, 1, 2, 3], 'min_samples_split': [1, 2, 3]}\n",
    "\n",
    "clf = GridSearchCV(ensemble.RandomForestRegressor(), tuned_parameters, cv=5, n_jobs=-1, verbose=1)\n",
    "start_time = time() \n",
    "clf.fit(X_train, y_train)\n",
    "total_time = float(time() - start_time)\n",
    "\n",
    "print (clf.best_estimator_)\n",
    "print(\"Time:\" ,total_time)\n",
    "print(psutil.cpu_percent()) # for cpu usage\n",
    "print(psutil.disk_usage('/')) # for disk usage"
   ]
  },
  {
   "cell_type": "code",
   "execution_count": 68,
   "id": "7fd69b6e",
   "metadata": {},
   "outputs": [
    {
     "data": {
      "image/png": "[encoded data removed]",
      "text/plain": [
       "<Figure size 640x480 with 1 Axes>"
      ]
     },
     "metadata": {},
     "output_type": "display_data"
    }
   ],
   "source": [
    "import matplotlib.pyplot as plt\n",
    "\n",
    "random_df = {'Intel': [0.073951721,\n",
    "                        3.4,\n",
    "                        0.000986576,\n",
    "                        65.6,\n",
    "                        1.35\n",
    "                       ],\n",
    "            'Simple': [0.973983765,\n",
    "                        3.8,\n",
    "                        0.001004934,\n",
    "                        480,\n",
    "                        1.02,\n",
    "                       ]}\n",
    "  \n",
    "X = ['Memory (gb)','CPU (%)','Time(ms)','%timeit(ms)','%time(ms)']\n",
    "\n",
    "Intel=  [0.073951721, 3.4, 0.986576, 0.0656,1.35]\n",
    "\n",
    "Simple = [0.973983765, 3.8, 1.004934,0.480,1.02]\n",
    "\n",
    "X_axis = np.arange(len(X))\n",
    "  \n",
    "plt.bar(X_axis - 0.2, Intel, 0.4, label = 'Intel')\n",
    "plt.bar(X_axis + 0.2, Simple, 0.4, label = 'Simple')\n",
    "  \n",
    "plt.xticks(X_axis, X)\n",
    "plt.xlabel(\"Values\")\n",
    "plt.title(\"Time, CPU and Memory data\")\n",
    "plt.legend()\n",
    "plt.show()"
   ]
  },
  {
   "cell_type": "code",
   "execution_count": 64,
   "id": "a4267e1e",
   "metadata": {},
   "outputs": [
    {
     "data": {
      "image/png": "[encoded data removed]",
      "text/plain": [
       "<Figure size 640x480 with 1 Axes>"
      ]
     },
     "metadata": {},
     "output_type": "display_data"
    }
   ],
   "source": [
    "import numpy as np \n",
    "import matplotlib.pyplot as plt \n",
    "  \n",
    "X = ['Memory (mb)','CPU (%)','Time(ms)','%timeit(ms)','%time(ms)']\n",
    "\n",
    "Intel=  [326.709747,17.2,288.55443,67.8,76]\n",
    "\n",
    "Simple = [310.951233,13.5,105.035543,97.1,79]\n",
    "\n",
    "X_axis = np.arange(len(X))\n",
    "  \n",
    "plt.bar(X_axis - 0.2, Intel, 0.4, label = 'Intel')\n",
    "plt.bar(X_axis + 0.2, Simple, 0.4, label = 'Simple')\n",
    "  \n",
    "plt.xticks(X_axis, X)\n",
    "plt.xlabel(\"Values\")\n",
    "plt.title(\"Time, CPU and Memory data\")\n",
    "plt.legend()\n",
    "plt.show()"
   ]
  },
  {
   "cell_type": "code",
   "execution_count": null,
   "id": "d852bdad",
   "metadata": {},
   "outputs": [],
   "source": []
  }
 ],
 "metadata": {
  "kernelspec": {
   "display_name": "Python [conda env:intelai] *",
   "language": "python",
   "name": "conda-env-intelai-py"
  },
  "language_info": {
   "codemirror_mode": {
    "name": "ipython",
    "version": 3
   },
   "file_extension": ".py",
   "mimetype": "text/x-python",
   "name": "python",
   "nbconvert_exporter": "python",
   "pygments_lexer": "ipython3",
   "version": "3.8.13"
  }
 },
 "nbformat": 4,
 "nbformat_minor": 5
}
